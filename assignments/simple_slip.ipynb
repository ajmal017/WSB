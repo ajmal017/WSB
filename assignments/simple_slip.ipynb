{
 "cells": [
  {
   "cell_type": "code",
   "execution_count": 1,
   "metadata": {},
   "outputs": [
    {
     "data": {
      "text/plain": [
       "'\\nModel slippage as a quadratic function of percentage of historical volume.\\nOrders to buy will be filled at::\\n   price * (1 + price_impact * (volume_share ** 2))\\nOrders to sell will be filled at::\\n   price * (1 - price_impact * (volume_share ** 2))\\nwhere ``price`` is the close price for the bar, and ``volume_share`` is the\\npercentage of minutely volume filled, up to a max of ``volume_limit``.\\nParameters\\n----------\\nvolume_limit : float, optional\\n    Maximum percent of historical volume that can fill in each bar. 0.5\\n    means 50% of historical volume. 1.0 means 100%. Default is 0.025 (i.e.,\\n    2.5%).\\nprice_impact : float, optional\\n    Scaling coefficient for price impact. Larger values will result in more\\n    simulated price impact. Smaller values will result in less simulated\\n    price impact. Default is 0.1.\\n'"
      ]
     },
     "execution_count": 1,
     "metadata": {},
     "output_type": "execute_result"
    }
   ],
   "source": [
    "    \"\"\"\n",
    "    Model slippage as a quadratic function of percentage of historical volume.\n",
    "    Orders to buy will be filled at::\n",
    "       price * (1 + price_impact * (volume_share ** 2))\n",
    "    Orders to sell will be filled at::\n",
    "       price * (1 - price_impact * (volume_share ** 2))\n",
    "    where ``price`` is the close price for the bar, and ``volume_share`` is the\n",
    "    percentage of minutely volume filled, up to a max of ``volume_limit``.\n",
    "    Parameters\n",
    "    ----------\n",
    "    volume_limit : float, optional\n",
    "        Maximum percent of historical volume that can fill in each bar. 0.5\n",
    "        means 50% of historical volume. 1.0 means 100%. Default is 0.025 (i.e.,\n",
    "        2.5%).\n",
    "    price_impact : float, optional\n",
    "        Scaling coefficient for price impact. Larger values will result in more\n",
    "        simulated price impact. Smaller values will result in less simulated\n",
    "        price impact. Default is 0.1.\n",
    "    \"\"\""
   ]
  },
  {
   "cell_type": "code",
   "execution_count": 14,
   "metadata": {},
   "outputs": [
    {
     "data": {
      "text/plain": [
       "151.4999987632653"
      ]
     },
     "execution_count": 14,
     "metadata": {},
     "output_type": "execute_result"
    }
   ],
   "source": [
    "'''Quadratic Model\n",
    "``volume_share`` is the percentage of minutely volume filled, up to a max of ``volume_limit``.\n",
    "Volume_share is Order_volume / minute_volume \n",
    "Minute Volume?\n",
    "'''\n",
    "#DEFAULTS\n",
    "price_impact = .1 #Smaller = less impact \n",
    "\n",
    "qty = 100\n",
    "\n",
    "volume_limit = .025\n",
    "\n",
    "volume_1m_bar = 350000\n",
    "qty_share = qty / volume_1m_bar\n",
    "volume_share = min(qty_share, volume_limit)\n",
    "\n",
    "\n",
    "def get_quadratic_slippage(close, price_impact, volume_share, side='1'):\n",
    "    volume_pct = min(volume_share,volume_limit)\n",
    "    if side == 1:\n",
    "        return close * (1 + price_impact * (volume_pct **2))\n",
    "    return close * (1 - price_impact * (volume_pct ** 2))\n",
    "\n",
    "get_quadratic_slippage(151.5,price_impact,volume_share)"
   ]
  },
  {
   "cell_type": "code",
   "execution_count": 41,
   "metadata": {},
   "outputs": [
    {
     "data": {
      "text/plain": [
       "[0.000999999999990564,\n",
       " 0.0040000000000048885,\n",
       " 0.0010999999999938836,\n",
       " 0.004400000000003956,\n",
       " 0.0011999999999972033,\n",
       " 0.004800000000003024,\n",
       " 0.001300000000000523,\n",
       " 0.005200000000002092,\n",
       " 0.0013999999999896318,\n",
       " 0.00560000000000116,\n",
       " 0.0014999999999929514,\n",
       " 0.006000000000000227,\n",
       " 0.001599999999996271,\n",
       " 0.006399999999999295,\n",
       " 0.0016999999999995907,\n",
       " 0.006799999999998363,\n",
       " 0.0018000000000029104,\n",
       " 0.007199999999997431,\n",
       " 0.00190000000000623,\n",
       " 0.0075999999999964984,\n",
       " 0.001999999999995339,\n",
       " 0.007999999999995566,\n",
       " 0.0020999999999986585,\n",
       " 0.008399999999994634,\n",
       " 0.002200000000001978,\n",
       " 0.008799999999993702,\n",
       " 0.002300000000005298,\n",
       " 0.00919999999999277,\n",
       " 0.0024000000000086175,\n",
       " 0.009599999999991837]"
      ]
     },
     "execution_count": 41,
     "metadata": {},
     "output_type": "execute_result"
    }
   ],
   "source": [
    "import numpy as np\n",
    "def calculate_slippage_pct(pi_max,vol_min):\n",
    "    pct_slip = []\n",
    "    '''\n",
    "    for p in np.arange(price_impact,pi_max,.01):\n",
    "        for v in np.arange(vol_min,volume_limit,.01):\n",
    "            pct_slip.append(get_quadratic_slippage(100,p,v))\n",
    "    '''\n",
    "    pct_s = [get_quadratic_slippage(100,p,v) for p in np.arange(price_impact,.25,.01) for v in np.arange(.01,volume_limit,.01)]\n",
    "    return [100-i for i in pct_s]\n",
    "\n",
    "calculate_slippage_pct(.25, .01)"
   ]
  },
  {
   "cell_type": "code",
   "execution_count": 37,
   "metadata": {},
   "outputs": [
    {
     "name": "stdout",
     "output_type": "stream",
     "text": [
      "0.1 0.01\n",
      "0.1 0.02\n",
      "0.11 0.01\n",
      "0.11 0.02\n",
      "0.12 0.01\n",
      "0.12 0.02\n",
      "0.13 0.01\n",
      "0.13 0.02\n",
      "0.13999999999999999 0.01\n",
      "0.13999999999999999 0.02\n",
      "0.14999999999999997 0.01\n",
      "0.14999999999999997 0.02\n",
      "0.15999999999999998 0.01\n",
      "0.15999999999999998 0.02\n",
      "0.16999999999999998 0.01\n",
      "0.16999999999999998 0.02\n",
      "0.17999999999999997 0.01\n",
      "0.17999999999999997 0.02\n",
      "0.18999999999999995 0.01\n",
      "0.18999999999999995 0.02\n",
      "0.19999999999999996 0.01\n",
      "0.19999999999999996 0.02\n",
      "0.20999999999999996 0.01\n",
      "0.20999999999999996 0.02\n",
      "0.21999999999999995 0.01\n",
      "0.21999999999999995 0.02\n",
      "0.22999999999999995 0.01\n",
      "0.22999999999999995 0.02\n",
      "0.23999999999999994 0.01\n",
      "0.23999999999999994 0.02\n"
     ]
    }
   ],
   "source": [
    "fills = []\n",
    "fill = 0\n",
    "for p in np.arange(.1, .25,.01):\n",
    "    for v in np.arange(.01,.025,.01):\n",
    "        fill = get_quadratic_slippage(100,p,v)\n",
    "        fills.append(100-fill)"
   ]
  },
  {
   "cell_type": "code",
   "execution_count": 49,
   "metadata": {},
   "outputs": [
    {
     "name": "stdout",
     "output_type": "stream",
     "text": [
      "Max 0.009599999999991837\n",
      "Min 0.000999999999990564\n",
      "Median 0.003200000000006753\n",
      "Mean 0.004249999999998503\n"
     ]
    }
   ],
   "source": [
    "def get_fill_stats(fill_pcts):\n",
    "    f = fill_pcts\n",
    "    import statistics as st\n",
    "    print(f'Max {max(fill_pcts)}')\n",
    "    print(f'Min {min(fill_pcts)}')\n",
    "    print(f'Median {st.median(fill_pcts)}')\n",
    "    print(f'Mean {np.mean(fill_pcts)}')\n",
    "    \n",
    "    \n",
    "    \n",
    "get_fill_stats(fills)"
   ]
  },
  {
   "cell_type": "code",
   "execution_count": 83,
   "metadata": {},
   "outputs": [
    {
     "name": "stdout",
     "output_type": "stream",
     "text": [
      "100\n",
      "WARNING -- Current QTY 100000 / 3500000 == 0.02857142857142857 is > default max volume 0.025\n"
     ]
    },
    {
     "data": {
      "text/plain": [
       "0.025"
      ]
     },
     "execution_count": 83,
     "metadata": {},
     "output_type": "execute_result"
    }
   ],
   "source": [
    "'''Now derive the PRICE difference of this quantity'''\n",
    "#volume_limit = .025\n",
    "VOL_MAX = .025\n",
    "volume_1m_bar = 350000\n",
    "qty_share = qty / volume_1m_bar\n",
    "\n",
    "print(qty) #Used in calc -- REPLACE WITH SIMPLE QTY INPUT!\n",
    "'''AKA add ^^ this shit into the function to calc slippage'''\n",
    "\n",
    "\n",
    "def get_volume_share(qty,volume_1m):\n",
    "    limit = VOL_MAX\n",
    "    qty_of_barv = qty / volume_1m\n",
    "    if qty_of_barv > VOL_MAX: print(f'WARNING -- Current QTY {qty} / {volume_1m} == {qty_of_barv} is > default max volume {VOL_MAX}')\n",
    "    if qty_of_barv > VOL_MAX * 2:\n",
    "        raise Exception(f'Qty too large -- MAX of .025, current at {qty_of_barv}')\n",
    "    volume_share = min(qty_of_barv, VOL_MAX)\n",
    "    return volume_share\n",
    "\n",
    "get_volume_share(100000,3500000)"
   ]
  },
  {
   "cell_type": "code",
   "execution_count": 62,
   "metadata": {},
   "outputs": [
    {
     "data": {
      "text/plain": [
       "100.00625"
      ]
     },
     "execution_count": 62,
     "metadata": {},
     "output_type": "execute_result"
    }
   ],
   "source": [
    "import math\n",
    "volume_share = .025\n",
    "price = 100\n",
    "simulated_impact = volume_share ** 2 * math.copysign(price_impact, 1) * price\n",
    "impacted_price = price + simulated_impact\n",
    "impacted_price"
   ]
  },
  {
   "cell_type": "code",
   "execution_count": 92,
   "metadata": {},
   "outputs": [],
   "source": [
    "class VolatilityVolumeShare():\n",
    "    \"\"\"\n",
    "    Model slippage for futures contracts according to the following formula:\n",
    "        new_price = price + (price * MI / 10000),\n",
    "    where 'MI' is market impact, which is defined as:\n",
    "        MI = eta * sigma * sqrt(psi)\n",
    "    - ``eta`` is a constant which varies by root symbol.\n",
    "    - ``sigma`` is 20-day annualized volatility.\n",
    "    - ``psi`` is the volume traded in the given bar divided by 20-day ADV.\n",
    "    Parameters\n",
    "    ----------\n",
    "    volume_limit : float\n",
    "        Maximum percentage (as a decimal) of a bar's total volume that can be\n",
    "        traded.\n",
    "    eta : float or dict\n",
    "        Constant used in the market impact formula. If given a float, the eta\n",
    "        for all futures contracts is the same. If given a dictionary, it must\n",
    "        map root symbols to the eta for contracts of that symbol.\n",
    "    \"\"\"\n",
    "    #.00075 default \n",
    "    NO_DATA_VOLATILITY_SLIPPAGE_IMPACT = 7.5 / 10000\n",
    "    \n",
    "    \n",
    "    def get_simulated_impact(self,\n",
    "                             order,\n",
    "                             current_price,\n",
    "                             current_volume,\n",
    "                             txn_volume,\n",
    "                             mean_volume,\n",
    "                             volatility):\n",
    "        eta = self._eta[order.asset.root_symbol] #IMPORTED DEFAULT VALUE -- (could look up in quantopian?) Or find MEAN?\n",
    "        psi = txn_volume / mean_volume\n",
    "\n",
    "        market_impact = eta * volatility * math.sqrt(psi)\n",
    "\n",
    "        # We divide by 10,000 because this model computes to basis points.\n",
    "        # To convert from bps to % we need to divide by 100, then again to\n",
    "        # convert from % to fraction.\n",
    "        return (current_price * market_impact) / 10000\n",
    "    \n"
   ]
  },
  {
   "cell_type": "code",
   "execution_count": 96,
   "metadata": {},
   "outputs": [
    {
     "data": {
      "text/plain": [
       "0.0004854000000000001"
      ]
     },
     "execution_count": 96,
     "metadata": {},
     "output_type": "execute_result"
    }
   ],
   "source": [
    "def get_sim_impact(price,vol_1m, qty, mean_volume, volatility):\n",
    "    '''Use 20 day ADV for mean_volume, and 20d Sigma for Volatility'''\n",
    "    eta = 1.618 #CONSTANT TO LOOK UP (for now, golden ratio estimate)\n",
    "    psi = qty / mean_volume\n",
    "    \n",
    "    mi = eta * volatility * math.sqrt(psi)\n",
    "    #Returns PERCENT (I THINK?)\n",
    "    return (price * mi) / 100 \n",
    "\n",
    "get_sim_impact(100,250000, 1000, 1e9, .3)"
   ]
  },
  {
   "cell_type": "code",
   "execution_count": 134,
   "metadata": {},
   "outputs": [],
   "source": [
    "import statistics\n",
    "import yfinance as yf\n",
    "import pandas_datareader as pdr\n",
    "\n",
    "class Slip:\n",
    "    #defaults\n",
    "    price_impact = .1\n",
    "    volume_limit = .025\n",
    "    \n",
    "    def __init__(self, symbol, qty):\n",
    "        self.symbol = symbol\n",
    "        self.qty = qty\n",
    "        \n",
    "        self.price = 0\n",
    "        self.ADV = 0\n",
    "        self.VOL = 0  \n",
    "        self.minute_data = []\n",
    "        self.df = pdr.DataReader(symbol,'yahoo',2019)\n",
    "        self.volume = self.df.Volume.values #vol_array\n",
    "        self.prices = self.df['Adj Close'].values #price_arr\n",
    "\n",
    "\n",
    "    def get_ADV(self):\n",
    "        self.ADV = self.volume[-20:] #vol_array[-20:]\n",
    "        return self.ADV\n",
    "    \n",
    "    def get_volatility(self):\n",
    "        self.VOL = statistics.stdev(self.prices[-20:])\n",
    "        return self.VOL\n",
    "    \n",
    "    def get_1m_vol(self):\n",
    "        #Use YFinance! \n",
    "        data = yf.download(tickers=self.symbol,\n",
    "        period=\"5d\",\n",
    "        interval=\"1m\").drop(columns=['Open','High','Low','Close'])\n",
    "        \n",
    "        self.price = data['Adj Close'].iloc[-1]\n",
    "        \n",
    "        self.minute_data = data.Volume.values\n",
    "        self.minute_vol = self.minute_data[-1]\n",
    "        \n",
    "        return self.minute_vol\n",
    "    \n",
    "    \n",
    "    #NEED TO UTILIZE CLASS VAR !! \n",
    "    @classmethod\n",
    "    def get_sim_impact(self,qty=None, eta=None, price=None,vol_1m=None, mean_volume=None, volatility=None):\n",
    "        '''Use 20 day ADV for mean_volume, and 20d Sigma for Volatility'''\n",
    "        if qty is None: qty = self.qty\n",
    "        if price is None: price = self.price \n",
    "        if mean_volume is None: mean_volume = self.ADV\n",
    "        if volatility is None: volatility = self.VOL\n",
    "\n",
    "        eta = 1.618 #CONSTANT TO LOOK UP (for now, golden ratio estimate)\n",
    "        psi = qty / mean_volume\n",
    "\n",
    "        market_impact = eta * volatility * math.sqrt(psi)\n",
    "        #Returns PERCENT (I THINK?)\n",
    "        self.price_impact = market_impact #CONFIRM I DON't NEED TO DIVIDE THIS BY 100 ?\n",
    "        return (price * market_impact) / 100 \n",
    "    \n",
    "    @classmethod \n",
    "    def get_volume_share(self,qty,volume_1m=None):\n",
    "        \n",
    "        if volume_1m is None: volume_1m = self.minute_vol\n",
    "        limit = self.volume_limit\n",
    "        \n",
    "        qty_of_barv = qty / volume_1m\n",
    "        if qty_of_barv > limit: \n",
    "            print(f'WARNING -- Current QTY {qty} / {volume_1m} == {qty_of_barv} is > default max volume {VOL_MAX}')\n",
    "        if qty_of_barv > limit * 2:\n",
    "            raise Exception(f'Qty too large -- MAX of .025, current at {qty_of_barv}')\n",
    "            \n",
    "        self.volume_share = min(qty_of_barv, VOL_MAX)\n",
    "        return self.volume_share\n",
    "    \n",
    "    @classmethod\n",
    "    def get_quadratic_slippage(self,close, price_impact=None, volume_share=None,side=1):\n",
    "        if price_impact is None: price_impact = self.price_impact\n",
    "        if volume_share is None: volume_share = self.volume_share\n",
    "        if self.volume_share > self.volume_limit:\n",
    "            print('WARNING -- Qty is > Volume limit')\n",
    "            \n",
    "        volume_pct = min(self.volume_share,volume_limit)\n",
    "        if side == 1:\n",
    "            return close * (1 + price_impact * (volume_pct **2))\n",
    "        return close * (1 - price_impact * (volume_pct ** 2))\n",
    "\n",
    "    \n",
    "    '''WHY can I not use instance vars as default values here? '''\n",
    "    @classmethod\n",
    "    def calculate_slippage_pct(pi_max,vol_min):\n",
    "        self.fills = [get_quadratic_slippage(100,p,v) for p in np.arange(self.price_impact,.25,.01)\n",
    "                 for v in np.arange(.01,self.volume_limit,.01)]\n",
    "        self.realized_slippage = [self.price - i for i in self.fills]\n",
    "        return self.realized_slippage\n",
    "    \n",
    "    \n",
    "    \n",
    "\n",
    "    \n",
    "\n",
    "    \n",
    "        \n",
    "        \n",
    "        \n",
    "    \n",
    "    \n",
    "    "
   ]
  },
  {
   "cell_type": "code",
   "execution_count": 109,
   "metadata": {},
   "outputs": [
    {
     "data": {
      "text/plain": [
       "1.8708286933869707"
      ]
     },
     "execution_count": 109,
     "metadata": {},
     "output_type": "execute_result"
    }
   ],
   "source": []
  }
 ],
 "metadata": {
  "kernelspec": {
   "display_name": "Python 3",
   "language": "python",
   "name": "python3"
  },
  "language_info": {
   "codemirror_mode": {
    "name": "ipython",
    "version": 3
   },
   "file_extension": ".py",
   "mimetype": "text/x-python",
   "name": "python",
   "nbconvert_exporter": "python",
   "pygments_lexer": "ipython3",
   "version": "3.7.4"
  }
 },
 "nbformat": 4,
 "nbformat_minor": 4
}
