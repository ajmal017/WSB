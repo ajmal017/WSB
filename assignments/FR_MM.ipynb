{
 "cells": [
  {
   "cell_type": "code",
   "execution_count": 9,
   "metadata": {},
   "outputs": [
    {
     "data": {
      "text/plain": [
       "3.0"
      ]
     },
     "execution_count": 9,
     "metadata": {},
     "output_type": "execute_result"
    }
   ],
   "source": [
    "import numpy as np\n",
    "import pandas as pd\n",
    "\n",
    "P = 150000\n",
    "D = 50000\n",
    "N = .5 * (np.sqrt(1 + 8*(P/D)) + 1) #.5 not .05 in my calcs\n",
    "N"
   ]
  },
  {
   "cell_type": "code",
   "execution_count": 16,
   "metadata": {},
   "outputs": [],
   "source": [
    "def get_fixed_ratio(P,D):\n",
    "    qty = .5 * (np.sqrt(1 + 8*(P/D)) + 1)\n",
    "    return qty \n",
    "\n",
    "\n",
    "get_fixed_ratio(150000,50000)\n",
    "\n",
    "PNL = {'aapl':[150,100],'adbe':[100,100]}\n",
    "pl = pd.DataFrame.from_dict(PNL)\n",
    "pl\n",
    "\n",
    "PNL['aapl'].append(100)"
   ]
  },
  {
   "cell_type": "code",
   "execution_count": 26,
   "metadata": {},
   "outputs": [],
   "source": [
    "PNL = {'aapl':[]}\n",
    "\n",
    "p = pd.DataFrame.from_dict(PNL)\n",
    "\n",
    "PNL['aapl'].append(100)\n",
    "\n",
    "secs = ['aapl','tsla']\n",
    "\n",
    "for sec in secs:\n",
    "    PNL[sec] = []\n",
    "    \n",
    "#pnl = {pnl[sec],[] for sec in secs}\n",
    "PNL['aapl'].append(100)\n",
    "\n",
    "\n"
   ]
  },
  {
   "cell_type": "code",
   "execution_count": 33,
   "metadata": {},
   "outputs": [
    {
     "data": {
      "text/plain": [
       "50"
      ]
     },
     "execution_count": 33,
     "metadata": {},
     "output_type": "execute_result"
    }
   ],
   "source": [
    "P = {'aapl':0}\n",
    "\n",
    "P['aapl'] += 100\n",
    "P['aapl'] += -50\n",
    "P['aapl']"
   ]
  },
  {
   "cell_type": "code",
   "execution_count": 51,
   "metadata": {},
   "outputs": [
    {
     "data": {
      "text/html": [
       "<div>\n",
       "<style scoped>\n",
       "    .dataframe tbody tr th:only-of-type {\n",
       "        vertical-align: middle;\n",
       "    }\n",
       "\n",
       "    .dataframe tbody tr th {\n",
       "        vertical-align: top;\n",
       "    }\n",
       "\n",
       "    .dataframe thead th {\n",
       "        text-align: right;\n",
       "    }\n",
       "</style>\n",
       "<table border=\"1\" class=\"dataframe\">\n",
       "  <thead>\n",
       "    <tr style=\"text-align: right;\">\n",
       "      <th></th>\n",
       "      <th>High</th>\n",
       "      <th>Low</th>\n",
       "      <th>Open</th>\n",
       "      <th>Close</th>\n",
       "      <th>Volume</th>\n",
       "      <th>Adj Close</th>\n",
       "      <th>MA</th>\n",
       "      <th>pct_chg</th>\n",
       "      <th>Pos</th>\n",
       "      <th>PNL</th>\n",
       "      <th>PNL_$</th>\n",
       "      <th>qty</th>\n",
       "      <th>PNL_wt</th>\n",
       "      <th>wt_total</th>\n",
       "      <th>reg_total</th>\n",
       "    </tr>\n",
       "    <tr>\n",
       "      <th>Date</th>\n",
       "      <th></th>\n",
       "      <th></th>\n",
       "      <th></th>\n",
       "      <th></th>\n",
       "      <th></th>\n",
       "      <th></th>\n",
       "      <th></th>\n",
       "      <th></th>\n",
       "      <th></th>\n",
       "      <th></th>\n",
       "      <th></th>\n",
       "      <th></th>\n",
       "      <th></th>\n",
       "      <th></th>\n",
       "      <th></th>\n",
       "    </tr>\n",
       "  </thead>\n",
       "  <tbody>\n",
       "    <tr>\n",
       "      <td>2010-01-04</td>\n",
       "      <td>30.642857</td>\n",
       "      <td>30.340000</td>\n",
       "      <td>30.490000</td>\n",
       "      <td>30.572857</td>\n",
       "      <td>123432400.0</td>\n",
       "      <td>26.681330</td>\n",
       "      <td>NaN</td>\n",
       "      <td>NaN</td>\n",
       "      <td>-1</td>\n",
       "      <td>NaN</td>\n",
       "      <td>NaN</td>\n",
       "      <td>NaN</td>\n",
       "      <td>NaN</td>\n",
       "      <td>NaN</td>\n",
       "      <td>NaN</td>\n",
       "    </tr>\n",
       "    <tr>\n",
       "      <td>2010-01-05</td>\n",
       "      <td>30.798571</td>\n",
       "      <td>30.464285</td>\n",
       "      <td>30.657143</td>\n",
       "      <td>30.625713</td>\n",
       "      <td>150476200.0</td>\n",
       "      <td>26.727465</td>\n",
       "      <td>NaN</td>\n",
       "      <td>0.001729</td>\n",
       "      <td>-1</td>\n",
       "      <td>-0.001729</td>\n",
       "      <td>-5.294783e+01</td>\n",
       "      <td>0.879611</td>\n",
       "      <td>-0.001521</td>\n",
       "      <td>-0.001521</td>\n",
       "      <td>-0.001729</td>\n",
       "    </tr>\n",
       "    <tr>\n",
       "      <td>2010-01-06</td>\n",
       "      <td>30.747143</td>\n",
       "      <td>30.107143</td>\n",
       "      <td>30.625713</td>\n",
       "      <td>30.138571</td>\n",
       "      <td>138040000.0</td>\n",
       "      <td>26.302330</td>\n",
       "      <td>NaN</td>\n",
       "      <td>-0.015906</td>\n",
       "      <td>-1</td>\n",
       "      <td>0.015906</td>\n",
       "      <td>4.264461e+02</td>\n",
       "      <td>1.550187</td>\n",
       "      <td>0.024658</td>\n",
       "      <td>0.023137</td>\n",
       "      <td>0.014177</td>\n",
       "    </tr>\n",
       "    <tr>\n",
       "      <td>2010-01-07</td>\n",
       "      <td>30.285715</td>\n",
       "      <td>29.864286</td>\n",
       "      <td>30.250000</td>\n",
       "      <td>30.082857</td>\n",
       "      <td>119282800.0</td>\n",
       "      <td>26.253704</td>\n",
       "      <td>NaN</td>\n",
       "      <td>-0.001849</td>\n",
       "      <td>-1</td>\n",
       "      <td>0.001849</td>\n",
       "      <td>4.820567e+02</td>\n",
       "      <td>1.601868</td>\n",
       "      <td>0.002961</td>\n",
       "      <td>0.026098</td>\n",
       "      <td>0.016026</td>\n",
       "    </tr>\n",
       "    <tr>\n",
       "      <td>2010-01-08</td>\n",
       "      <td>30.285715</td>\n",
       "      <td>29.865715</td>\n",
       "      <td>30.042856</td>\n",
       "      <td>30.282858</td>\n",
       "      <td>111902700.0</td>\n",
       "      <td>26.428249</td>\n",
       "      <td>NaN</td>\n",
       "      <td>0.006648</td>\n",
       "      <td>-1</td>\n",
       "      <td>-0.006648</td>\n",
       "      <td>2.807263e+02</td>\n",
       "      <td>1.400807</td>\n",
       "      <td>-0.009313</td>\n",
       "      <td>0.016785</td>\n",
       "      <td>0.009378</td>\n",
       "    </tr>\n",
       "    <tr>\n",
       "      <td>...</td>\n",
       "      <td>...</td>\n",
       "      <td>...</td>\n",
       "      <td>...</td>\n",
       "      <td>...</td>\n",
       "      <td>...</td>\n",
       "      <td>...</td>\n",
       "      <td>...</td>\n",
       "      <td>...</td>\n",
       "      <td>...</td>\n",
       "      <td>...</td>\n",
       "      <td>...</td>\n",
       "      <td>...</td>\n",
       "      <td>...</td>\n",
       "      <td>...</td>\n",
       "      <td>...</td>\n",
       "    </tr>\n",
       "    <tr>\n",
       "      <td>2019-10-29</td>\n",
       "      <td>249.750000</td>\n",
       "      <td>242.570007</td>\n",
       "      <td>248.970001</td>\n",
       "      <td>243.289993</td>\n",
       "      <td>35660100.0</td>\n",
       "      <td>243.289993</td>\n",
       "      <td>238.448666</td>\n",
       "      <td>-0.023128</td>\n",
       "      <td>1</td>\n",
       "      <td>-0.023128</td>\n",
       "      <td>1.382210e+06</td>\n",
       "      <td>53.080131</td>\n",
       "      <td>-1.227633</td>\n",
       "      <td>376.799840</td>\n",
       "      <td>12.828961</td>\n",
       "    </tr>\n",
       "    <tr>\n",
       "      <td>2019-10-30</td>\n",
       "      <td>245.300003</td>\n",
       "      <td>241.210007</td>\n",
       "      <td>244.759995</td>\n",
       "      <td>243.259995</td>\n",
       "      <td>30950600.0</td>\n",
       "      <td>243.259995</td>\n",
       "      <td>239.530666</td>\n",
       "      <td>-0.000123</td>\n",
       "      <td>1</td>\n",
       "      <td>-0.000123</td>\n",
       "      <td>1.382180e+06</td>\n",
       "      <td>53.079560</td>\n",
       "      <td>-0.006545</td>\n",
       "      <td>376.793295</td>\n",
       "      <td>12.828838</td>\n",
       "    </tr>\n",
       "    <tr>\n",
       "      <td>2019-10-31</td>\n",
       "      <td>249.169998</td>\n",
       "      <td>237.259995</td>\n",
       "      <td>247.240005</td>\n",
       "      <td>248.759995</td>\n",
       "      <td>34766600.0</td>\n",
       "      <td>248.759995</td>\n",
       "      <td>240.775333</td>\n",
       "      <td>0.022610</td>\n",
       "      <td>1</td>\n",
       "      <td>0.022610</td>\n",
       "      <td>1.387804e+06</td>\n",
       "      <td>53.186420</td>\n",
       "      <td>1.202521</td>\n",
       "      <td>377.995817</td>\n",
       "      <td>12.851448</td>\n",
       "    </tr>\n",
       "    <tr>\n",
       "      <td>2019-11-01</td>\n",
       "      <td>255.929993</td>\n",
       "      <td>249.160004</td>\n",
       "      <td>249.539993</td>\n",
       "      <td>255.820007</td>\n",
       "      <td>37738700.0</td>\n",
       "      <td>255.820007</td>\n",
       "      <td>242.082666</td>\n",
       "      <td>0.028381</td>\n",
       "      <td>1</td>\n",
       "      <td>0.028381</td>\n",
       "      <td>1.395065e+06</td>\n",
       "      <td>53.324044</td>\n",
       "      <td>1.513380</td>\n",
       "      <td>379.509197</td>\n",
       "      <td>12.879829</td>\n",
       "    </tr>\n",
       "    <tr>\n",
       "      <td>2019-11-05</td>\n",
       "      <td>258.190002</td>\n",
       "      <td>256.339996</td>\n",
       "      <td>257.049988</td>\n",
       "      <td>257.579987</td>\n",
       "      <td>11404172.0</td>\n",
       "      <td>257.579987</td>\n",
       "      <td>243.529999</td>\n",
       "      <td>0.006880</td>\n",
       "      <td>1</td>\n",
       "      <td>0.006880</td>\n",
       "      <td>1.396837e+06</td>\n",
       "      <td>53.357581</td>\n",
       "      <td>0.367087</td>\n",
       "      <td>379.876284</td>\n",
       "      <td>12.886708</td>\n",
       "    </tr>\n",
       "  </tbody>\n",
       "</table>\n",
       "<p>2477 rows × 15 columns</p>\n",
       "</div>"
      ],
      "text/plain": [
       "                  High         Low        Open       Close       Volume  \\\n",
       "Date                                                                      \n",
       "2010-01-04   30.642857   30.340000   30.490000   30.572857  123432400.0   \n",
       "2010-01-05   30.798571   30.464285   30.657143   30.625713  150476200.0   \n",
       "2010-01-06   30.747143   30.107143   30.625713   30.138571  138040000.0   \n",
       "2010-01-07   30.285715   29.864286   30.250000   30.082857  119282800.0   \n",
       "2010-01-08   30.285715   29.865715   30.042856   30.282858  111902700.0   \n",
       "...                ...         ...         ...         ...          ...   \n",
       "2019-10-29  249.750000  242.570007  248.970001  243.289993   35660100.0   \n",
       "2019-10-30  245.300003  241.210007  244.759995  243.259995   30950600.0   \n",
       "2019-10-31  249.169998  237.259995  247.240005  248.759995   34766600.0   \n",
       "2019-11-01  255.929993  249.160004  249.539993  255.820007   37738700.0   \n",
       "2019-11-05  258.190002  256.339996  257.049988  257.579987   11404172.0   \n",
       "\n",
       "             Adj Close          MA   pct_chg  Pos       PNL         PNL_$  \\\n",
       "Date                                                                        \n",
       "2010-01-04   26.681330         NaN       NaN   -1       NaN           NaN   \n",
       "2010-01-05   26.727465         NaN  0.001729   -1 -0.001729 -5.294783e+01   \n",
       "2010-01-06   26.302330         NaN -0.015906   -1  0.015906  4.264461e+02   \n",
       "2010-01-07   26.253704         NaN -0.001849   -1  0.001849  4.820567e+02   \n",
       "2010-01-08   26.428249         NaN  0.006648   -1 -0.006648  2.807263e+02   \n",
       "...                ...         ...       ...  ...       ...           ...   \n",
       "2019-10-29  243.289993  238.448666 -0.023128    1 -0.023128  1.382210e+06   \n",
       "2019-10-30  243.259995  239.530666 -0.000123    1 -0.000123  1.382180e+06   \n",
       "2019-10-31  248.759995  240.775333  0.022610    1  0.022610  1.387804e+06   \n",
       "2019-11-01  255.820007  242.082666  0.028381    1  0.028381  1.395065e+06   \n",
       "2019-11-05  257.579987  243.529999  0.006880    1  0.006880  1.396837e+06   \n",
       "\n",
       "                  qty    PNL_wt    wt_total  reg_total  \n",
       "Date                                                    \n",
       "2010-01-04        NaN       NaN         NaN        NaN  \n",
       "2010-01-05   0.879611 -0.001521   -0.001521  -0.001729  \n",
       "2010-01-06   1.550187  0.024658    0.023137   0.014177  \n",
       "2010-01-07   1.601868  0.002961    0.026098   0.016026  \n",
       "2010-01-08   1.400807 -0.009313    0.016785   0.009378  \n",
       "...               ...       ...         ...        ...  \n",
       "2019-10-29  53.080131 -1.227633  376.799840  12.828961  \n",
       "2019-10-30  53.079560 -0.006545  376.793295  12.828838  \n",
       "2019-10-31  53.186420  1.202521  377.995817  12.851448  \n",
       "2019-11-01  53.324044  1.513380  379.509197  12.879829  \n",
       "2019-11-05  53.357581  0.367087  379.876284  12.886708  \n",
       "\n",
       "[2477 rows x 15 columns]"
      ]
     },
     "execution_count": 51,
     "metadata": {},
     "output_type": "execute_result"
    }
   ],
   "source": [
    "import pandas_datareader as pdr\n",
    "\n",
    "BASE_QTY = 1000\n",
    "\n",
    "aapl = pdr.DataReader('aapl','yahoo','2010')\n",
    "\n",
    "aapl['MA'] = aapl.Close.rolling(window=15).mean()\n",
    "aapl['pct_chg'] = aapl['Close'].pct_change()\n",
    "aapl['Pos'] = np.where(aapl['MA'] < aapl['Close'],1,-1)\n",
    "\n",
    "aapl['PNL'] = aapl['Pos'] * aapl.pct_chg #* aapl['qty']\n",
    "\n",
    "aapl['PNL_$'] = (aapl['PNL'] * BASE_QTY*aapl['Close']).cumsum() \n",
    "\n",
    "aapl['qty'] = .5 * (np.sqrt(1 + 8*(aapl['PNL_$']/1000)) + 1) \n",
    "aapl['PNL_wt'] = aapl['PNL'] * aapl['qty']\n",
    "aapl['wt_total'] = aapl['PNL_wt'].cumsum()\n",
    "aapl['reg_total'] = aapl['PNL'].cumsum()\n",
    "aapl"
   ]
  },
  {
   "cell_type": "code",
   "execution_count": 58,
   "metadata": {},
   "outputs": [
    {
     "data": {
      "image/png": "[encoded data removed]",
      "text/plain": [
       "<Figure size 1440x720 with 1 Axes>"
      ]
     },
     "metadata": {
      "needs_background": "light"
     },
     "output_type": "display_data"
    },
    {
     "data": {
      "image/png": "[encoded data removed]",
      "text/plain": [
       "<Figure size 1440x720 with 1 Axes>"
      ]
     },
     "metadata": {
      "needs_background": "light"
     },
     "output_type": "display_data"
    }
   ],
   "source": [
    "import matplotlib.pyplot as plt\n",
    "\n",
    "aapl.plot(y='wt_total',figsize=(20,10))\n",
    "aapl.plot(y='reg_total',figsize=(20,10))\n",
    "plt.show()"
   ]
  },
  {
   "cell_type": "code",
   "execution_count": 96,
   "metadata": {},
   "outputs": [
    {
     "data": {
      "text/plain": [
       "<matplotlib.axes._subplots.AxesSubplot at 0x1a2e8f5e10>"
      ]
     },
     "execution_count": 96,
     "metadata": {},
     "output_type": "execute_result"
    },
    {
     "data": {
      "image/png": "[encoded data removed]",
      "text/plain": [
       "<Figure size 1440x1080 with 1 Axes>"
      ]
     },
     "metadata": {},
     "output_type": "display_data"
    }
   ],
   "source": [
    "import seaborn as sns\n",
    "\n",
    "#sns.set()\n",
    "\n",
    "#aapl.reset_index()\n",
    "\n",
    "\n",
    "rets = aapl[['wt_total','reg_total']] #NEED DOUBLE BRACKETS BC DF (cant be series )\n",
    "\n",
    "#sns.lineplot(x='Date',y='wt_total',hue='reg_total',data=aapl)\n",
    "\n",
    "#just insert as a fucking list!\n",
    "aapl.plot(x='Date', y=['wt_total', 'reg_total'], figsize=(20,15), grid=True,cmap='cividis')#,secondary_y=['reg_total'])\n"
   ]
  },
  {
   "cell_type": "code",
   "execution_count": 137,
   "metadata": {},
   "outputs": [
    {
     "data": {
      "text/plain": [
       "{'tsla': 272727, 'aapl': 521872, 'adbe': 655377}"
      ]
     },
     "execution_count": 137,
     "metadata": {},
     "output_type": "execute_result"
    }
   ],
   "source": [
    "PNL = {}\n",
    "\n",
    "secs = ['tsla','aapl','adbe']\n",
    "eq = 50000\n",
    "risk = .02\n",
    "sl = 350\n",
    "\n",
    "def fixed_fractional(acct_eq,fxd_risk,stop_loss):\n",
    "    qty = fxd_risk*(acct_eq/stop_loss)\n",
    "    return qty\n",
    "\n",
    "\n",
    "def create_PNL_dict(secList):\n",
    "    for sec in secList:\n",
    "        PNL[sec] = 0\n",
    "    return PNL\n",
    "\n",
    "fixed_fractional(eq,risk,sl)\n",
    "create_PNL_dict(secs)\n",
    "\n",
    "\n",
    "'''Psuedo random implementation of live -- '''\n",
    "for sec in secs:\n",
    "    for i in range(10): #Repeat 10x\n",
    "        PNL[sec] += np.random.randint(-1000,100000)\n",
    "    \n",
    "PNL"
   ]
  },
  {
   "cell_type": "code",
   "execution_count": 139,
   "metadata": {},
   "outputs": [
    {
     "data": {
      "text/plain": [
       "{'tsla': 38.961000000000006,\n",
       " 'aapl': 74.55314285714286,\n",
       " 'adbe': 93.62528571428572}"
      ]
     },
     "execution_count": 139,
     "metadata": {},
     "output_type": "execute_result"
    }
   ],
   "source": [
    "qty_dict = {} #This is just to test them all, wouldn't actually do this.\n",
    "for sec in secs:\n",
    "    qty_dict[sec] = fixed_fractional(PNL[sec],.05,350)\n",
    "    \n",
    "qty_dict"
   ]
  },
  {
   "cell_type": "code",
   "execution_count": 142,
   "metadata": {},
   "outputs": [
    {
     "name": "stdout",
     "output_type": "stream",
     "text": [
      "Yikes! With my (conservative) SR, optimal suggests a 34.81x Leverage! LTCM style?\n"
     ]
    }
   ],
   "source": [
    "'''Kelly Ratio & Kelly Leverage'''\n",
    "\n",
    "\n",
    "def kelly_lvg(SR,cash_bal):\n",
    "    '''Returns ratio, and optimal leveraged balance'''\n",
    "    lvg_ratio = SR**2\n",
    "    return cash_bal*lvg_ratio, lvg_ratio\n",
    "\n",
    "bal,ratio = kelly_lvg(5.9,100000) \n",
    "print('Yikes! With my (conservative) SR, optimal suggests a {}x Leverage! LTCM style?'.format(ratio))"
   ]
  },
  {
   "cell_type": "code",
   "execution_count": 162,
   "metadata": {},
   "outputs": [
    {
     "name": "stdout",
     "output_type": "stream",
     "text": [
      "Kelly Criteria is absurd (even at 1/2) 195.41125541125535\n"
     ]
    }
   ],
   "source": [
    "'''Kelly MM Algo Kelly % = W – (1-W)/R where:'''\n",
    "\n",
    "wl = .77\n",
    "wpct = .82\n",
    "eq = 100000\n",
    "CLOSE = 150 #Roku ex\n",
    "\n",
    "def get_Kelly_qty(eq,winPct,wlRatio):\n",
    "    '''Returns qty for specific strategy/instrument'''\n",
    "    k_pct = winPct - ((1-winPct)/wlRatio)\n",
    "    sharesPerEq = eq/CLOSE\n",
    "    return k_pct * sharesPerEq *.5\n",
    "\n",
    "print(\"Kelly Criteria is absurd (even at 1/2)\",get_Kelly_qty(eq,wpct,wl))"
   ]
  },
  {
   "cell_type": "code",
   "execution_count": 198,
   "metadata": {},
   "outputs": [
    {
     "data": {
      "text/plain": [
       "66.66666666666667"
      ]
     },
     "execution_count": 198,
     "metadata": {},
     "output_type": "execute_result"
    }
   ],
   "source": [
    "'''Optimal F (always the most absurd)'''\n",
    "\n",
    "def get_OptF_qty(f,maxLossPct,eq):\n",
    "    '''Returns QTY given by Optimal F'''\n",
    "    qty = (f * eq/maxLossPct)/CLOSE\n",
    "    return qty\n",
    "\n",
    "get_OptF_qty(.01,.02,100000)\n",
    "\n",
    "get_OptF_qty(.005,.05,100000) #Maybe set VERY conservatively, it could work?  (like with F = .5%)"
   ]
  },
  {
   "cell_type": "code",
   "execution_count": 218,
   "metadata": {},
   "outputs": [
    {
     "name": "stdout",
     "output_type": "stream",
     "text": [
      "Test: (T) True\n"
     ]
    },
    {
     "data": {
      "text/plain": [
       "33.33333333333333"
      ]
     },
     "execution_count": 218,
     "metadata": {},
     "output_type": "execute_result"
    }
   ],
   "source": [
    "'''Number_of_units = (Secure_F * Current_Capital / starting_risk_per_unity_of_assets)/Security_Price \n",
    "starting risk = maximal loss at trade(in %). Example:\n",
    "Current Capital - $2,000,000 ($10,000 with margin factor of 200).\n",
    "Currency Price – 1.2785\n",
    "Max DrawDown - 20% (value of maximal allowed DrawDown) #Never used?\n",
    "Secure F - 0.10 (value of maximal allowed DrawDown)\n",
    "Maximal Loss at trade - 50% \n",
    "(0.1 * 2,000,000/0.5)/1.2785 = 312,867/50 = 156,433\n",
    "'''\n",
    "\n",
    "\n",
    "'''Secure F -- maybe better? -- MUCH better ! '''\n",
    "\n",
    "def get_secureF_qty(f,maxDD,maxLoss,eq):\n",
    "    '''Returns QTY'''\n",
    "    qty = (f * eq/maxLoss)/CLOSE\n",
    "    return qty * maxDD*2.5\n",
    "\n",
    "\n",
    "print('Test: (T)',round(((.1 * 2000000/.5)/1.2785) * .5,0) == 156433)\n",
    "\n",
    "get_secureF_qty(.01,.04,.02,100000)"
   ]
  },
  {
   "cell_type": "code",
   "execution_count": 289,
   "metadata": {},
   "outputs": [
    {
     "name": "stdout",
     "output_type": "stream",
     "text": [
      "46.51162790697674\n",
      "KD version, unmodded: \n",
      " 626.6666666666666\n"
     ]
    },
    {
     "data": {
      "text/plain": [
       "73000.0"
      ]
     },
     "execution_count": 289,
     "metadata": {},
     "output_type": "execute_result"
    }
   ],
   "source": [
    "'''Kevin Davey Method -- 2.5x DD'''\n",
    "\n",
    "#100000/.02\n",
    "ct = 6500\n",
    "dd = .02\n",
    "eq = 100000\n",
    "realdd = dd*3\n",
    "extra_usd = 100000*realdd\n",
    "extra_usd\n",
    "\n",
    "max_ct = eq/ct #15.38\n",
    "safe_ct = eq/(ct + dd*eq)\n",
    "safe_ct+safe_ct*(dd/eq)\n",
    "max_ct\n",
    "\n",
    "#round(eq - (dd*eq)*safe_ct,0) == round(safe_ct * ct,0) a definite check to make sure it's right ! \n",
    "\n",
    "def get_KDZ_qty(eq,maxDD):\n",
    "    '''Modified version -- scales DD linearly'''\n",
    "    max_ct = eq/CLOSE\n",
    "    ddDlrs = dd*eq\n",
    "    safe_qty = eq/(CLOSE + ddDlrs)\n",
    "    assert(round(eq - (dd*eq)*safe_qty,0) == round(safe_qty * CLOSE,0))\n",
    "    return safe_qty\n",
    "\n",
    "print(get_KDZ_qty(100000,.02))\n",
    "\n",
    "\n",
    "#This is too damn much ! unforunately \n",
    "def get_KD_qty(eq,maxDD,mult):\n",
    "    '''Original version'''\n",
    "    max_ct = eq/CLOSE\n",
    "    ddUSD = (maxDD * eq) * mult\n",
    "    safe_qty = (eq-ddUSD)/CLOSE\n",
    "    assert(round(safe_qty*CLOSE + ddUSD) == round(max_ct*CLOSE))\n",
    "    return safe_qty\n",
    "\n",
    "safe_ct * CLOSE \n",
    "(dd*eq*3)\n",
    "(eq - 6000)/CLOSE\n",
    "\n",
    "print('KD version, unmodded: \\n',get_KD_qty(100000,.02,3))\n",
    "\n",
    "\n",
    "def get_ZO_qty(eq,maxDD,mult,STDev):\n",
    "    '''Good for init qty possibly'''\n",
    "    max_ct = eq/CLOSE\n",
    "    ddStd = maxDD*eq*mult + STDev*eq*mult\n",
    "    safe_qty = (eq - ddStd)/CLOSE\n",
    "    return safe_qty\n",
    "\n",
    "get_ZO_qty(100000,.02,3,.07) * CLOSE"
   ]
  }
 ],
 "metadata": {
  "kernelspec": {
   "display_name": "Python 3",
   "language": "python",
   "name": "python3"
  },
  "language_info": {
   "codemirror_mode": {
    "name": "ipython",
    "version": 3
   },
   "file_extension": ".py",
   "mimetype": "text/x-python",
   "name": "python",
   "nbconvert_exporter": "python",
   "pygments_lexer": "ipython3",
   "version": "3.7.4"
  }
 },
 "nbformat": 4,
 "nbformat_minor": 4
}
